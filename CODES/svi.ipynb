{
 "cells": [
  {
   "cell_type": "markdown",
   "id": "bb59577d-14dd-43de-a3f3-d78df257950d",
   "metadata": {},
   "source": [
    "# Download Street View Images\n",
    "### The street view images are downloaded using a CSV file which has bearings for each record."
   ]
  },
  {
   "cell_type": "code",
   "execution_count": null,
   "id": "d2f19653",
   "metadata": {},
   "outputs": [],
   "source": [
    "# Import all required packages\n",
    "import urllib.request\n",
    "import os\n",
    "import pandas as pd\n",
    "import json"
   ]
  },
  {
   "cell_type": "code",
   "execution_count": null,
   "id": "97910f29",
   "metadata": {},
   "outputs": [],
   "source": [
    "# Set the root directory\n",
    "os.chdir('/data/private/THESIS')\n",
    "base_path = os.getcwd()"
   ]
  },
  {
   "cell_type": "code",
   "execution_count": null,
   "id": "e96861b2",
   "metadata": {},
   "outputs": [],
   "source": [
    "# Load the file in which bearings and point ids are there\n",
    "df = pd.read_csv(\"FILES/filename.csv\") # replace filename.csv with actual csv file\n",
    "df.head(10)"
   ]
  },
  {
   "cell_type": "code",
   "execution_count": null,
   "id": "de4d7f6e",
   "metadata": {},
   "outputs": [],
   "source": [
    "# Change the directory to image path for saving downlaoded images\n",
    "os.chdir(base_path+\"/DATA\")"
   ]
  },
  {
   "cell_type": "code",
   "execution_count": null,
   "id": "bbefdbc6",
   "metadata": {},
   "outputs": [],
   "source": [
    "# Download the images for the records in the dataframe\n",
    "for i in range(df.shape[0]):\n",
    "    loc = str(df.iloc[i,4])+\",\"+str(df.iloc[i,3])\n",
    "    bearing = df.iloc[i,2]\n",
    "    angles_list = [str(0+bearing), str(90+bearing), str(180+bearing), str(270+bearing)]\n",
    "    for j in angles_list:\n",
    "        base = \"https://maps.googleapis.com/maps/api/streetview?size=512x512&location=\"+loc+\"&heading=\"+j+\"&fov=120&key=API_KEY\" # replace API_KEY with your API key(private key)\n",
    "        urllib.request.urlretrieve(base,str(temp_train.iloc[i,0])+\"_\"+str(angles_list.index(j))+\".jpg\")"
   ]
  }
 ],
 "metadata": {
  "kernelspec": {
   "display_name": "Python",
   "language": "python",
   "name": "python3"
  },
  "language_info": {
   "codemirror_mode": {
    "name": "ipython",
    "version": 3
   },
   "file_extension": ".py",
   "mimetype": "text/x-python",
   "name": "python",
   "nbconvert_exporter": "python",
   "pygments_lexer": "ipython3",
   "version": "3.8.10"
  }
 },
 "nbformat": 4,
 "nbformat_minor": 5
}
